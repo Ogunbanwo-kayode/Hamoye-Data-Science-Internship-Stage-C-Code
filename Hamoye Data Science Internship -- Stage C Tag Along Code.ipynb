{
 "cells": [
  {
   "cell_type": "code",
   "execution_count": 1,
   "id": "f1c1264b",
   "metadata": {},
   "outputs": [],
   "source": [
    "# Import the required libraries\n",
    "import numpy as np\n",
    "import pandas as pd\n",
    "\n",
    "import seaborn as sns\n",
    "from matplotlib import pyplot as plt\n",
    "\n",
    "from sklearn.model_selection import train_test_split\n",
    "from sklearn.metrics import accuracy_score, confusion_matrix, classification_report, f1_score\n",
    "from sklearn.model_selection import cross_val_score, RandomizedSearchCV, KFold, StratifiedKFold\n",
    "\n",
    "\n",
    "from sklearn.ensemble import RandomForestClassifier, ExtraTreesClassifier\n",
    "from xgboost import XGBClassifier\n",
    "from lightgbm import LGBMClassifier\n",
    "from sklearn.preprocessing import StandardScaler"
   ]
  },
  {
   "cell_type": "code",
   "execution_count": 2,
   "id": "f35db78c",
   "metadata": {},
   "outputs": [],
   "source": [
    "# Import the dataset\n",
    "df = pd.read_csv(\"https://archive.ics.uci.edu/ml/machine-learning-databases/00471/Data_for_UCI_named.csv\")"
   ]
  },
  {
   "cell_type": "code",
   "execution_count": 3,
   "id": "e4cf3049",
   "metadata": {
    "scrolled": true
   },
   "outputs": [
    {
     "data": {
      "text/html": [
       "<div>\n",
       "<style scoped>\n",
       "    .dataframe tbody tr th:only-of-type {\n",
       "        vertical-align: middle;\n",
       "    }\n",
       "\n",
       "    .dataframe tbody tr th {\n",
       "        vertical-align: top;\n",
       "    }\n",
       "\n",
       "    .dataframe thead th {\n",
       "        text-align: right;\n",
       "    }\n",
       "</style>\n",
       "<table border=\"1\" class=\"dataframe\">\n",
       "  <thead>\n",
       "    <tr style=\"text-align: right;\">\n",
       "      <th></th>\n",
       "      <th>tau1</th>\n",
       "      <th>tau2</th>\n",
       "      <th>tau3</th>\n",
       "      <th>tau4</th>\n",
       "      <th>p1</th>\n",
       "      <th>p2</th>\n",
       "      <th>p3</th>\n",
       "      <th>p4</th>\n",
       "      <th>g1</th>\n",
       "      <th>g2</th>\n",
       "      <th>g3</th>\n",
       "      <th>g4</th>\n",
       "      <th>stab</th>\n",
       "      <th>stabf</th>\n",
       "    </tr>\n",
       "  </thead>\n",
       "  <tbody>\n",
       "    <tr>\n",
       "      <th>0</th>\n",
       "      <td>2.959060</td>\n",
       "      <td>3.079885</td>\n",
       "      <td>8.381025</td>\n",
       "      <td>9.780754</td>\n",
       "      <td>3.763085</td>\n",
       "      <td>-0.782604</td>\n",
       "      <td>-1.257395</td>\n",
       "      <td>-1.723086</td>\n",
       "      <td>0.650456</td>\n",
       "      <td>0.859578</td>\n",
       "      <td>0.887445</td>\n",
       "      <td>0.958034</td>\n",
       "      <td>0.055347</td>\n",
       "      <td>unstable</td>\n",
       "    </tr>\n",
       "    <tr>\n",
       "      <th>1</th>\n",
       "      <td>9.304097</td>\n",
       "      <td>4.902524</td>\n",
       "      <td>3.047541</td>\n",
       "      <td>1.369357</td>\n",
       "      <td>5.067812</td>\n",
       "      <td>-1.940058</td>\n",
       "      <td>-1.872742</td>\n",
       "      <td>-1.255012</td>\n",
       "      <td>0.413441</td>\n",
       "      <td>0.862414</td>\n",
       "      <td>0.562139</td>\n",
       "      <td>0.781760</td>\n",
       "      <td>-0.005957</td>\n",
       "      <td>stable</td>\n",
       "    </tr>\n",
       "    <tr>\n",
       "      <th>2</th>\n",
       "      <td>8.971707</td>\n",
       "      <td>8.848428</td>\n",
       "      <td>3.046479</td>\n",
       "      <td>1.214518</td>\n",
       "      <td>3.405158</td>\n",
       "      <td>-1.207456</td>\n",
       "      <td>-1.277210</td>\n",
       "      <td>-0.920492</td>\n",
       "      <td>0.163041</td>\n",
       "      <td>0.766689</td>\n",
       "      <td>0.839444</td>\n",
       "      <td>0.109853</td>\n",
       "      <td>0.003471</td>\n",
       "      <td>unstable</td>\n",
       "    </tr>\n",
       "    <tr>\n",
       "      <th>3</th>\n",
       "      <td>0.716415</td>\n",
       "      <td>7.669600</td>\n",
       "      <td>4.486641</td>\n",
       "      <td>2.340563</td>\n",
       "      <td>3.963791</td>\n",
       "      <td>-1.027473</td>\n",
       "      <td>-1.938944</td>\n",
       "      <td>-0.997374</td>\n",
       "      <td>0.446209</td>\n",
       "      <td>0.976744</td>\n",
       "      <td>0.929381</td>\n",
       "      <td>0.362718</td>\n",
       "      <td>0.028871</td>\n",
       "      <td>unstable</td>\n",
       "    </tr>\n",
       "    <tr>\n",
       "      <th>4</th>\n",
       "      <td>3.134112</td>\n",
       "      <td>7.608772</td>\n",
       "      <td>4.943759</td>\n",
       "      <td>9.857573</td>\n",
       "      <td>3.525811</td>\n",
       "      <td>-1.125531</td>\n",
       "      <td>-1.845975</td>\n",
       "      <td>-0.554305</td>\n",
       "      <td>0.797110</td>\n",
       "      <td>0.455450</td>\n",
       "      <td>0.656947</td>\n",
       "      <td>0.820923</td>\n",
       "      <td>0.049860</td>\n",
       "      <td>unstable</td>\n",
       "    </tr>\n",
       "  </tbody>\n",
       "</table>\n",
       "</div>"
      ],
      "text/plain": [
       "       tau1      tau2      tau3      tau4        p1        p2        p3  \\\n",
       "0  2.959060  3.079885  8.381025  9.780754  3.763085 -0.782604 -1.257395   \n",
       "1  9.304097  4.902524  3.047541  1.369357  5.067812 -1.940058 -1.872742   \n",
       "2  8.971707  8.848428  3.046479  1.214518  3.405158 -1.207456 -1.277210   \n",
       "3  0.716415  7.669600  4.486641  2.340563  3.963791 -1.027473 -1.938944   \n",
       "4  3.134112  7.608772  4.943759  9.857573  3.525811 -1.125531 -1.845975   \n",
       "\n",
       "         p4        g1        g2        g3        g4      stab     stabf  \n",
       "0 -1.723086  0.650456  0.859578  0.887445  0.958034  0.055347  unstable  \n",
       "1 -1.255012  0.413441  0.862414  0.562139  0.781760 -0.005957    stable  \n",
       "2 -0.920492  0.163041  0.766689  0.839444  0.109853  0.003471  unstable  \n",
       "3 -0.997374  0.446209  0.976744  0.929381  0.362718  0.028871  unstable  \n",
       "4 -0.554305  0.797110  0.455450  0.656947  0.820923  0.049860  unstable  "
      ]
     },
     "execution_count": 3,
     "metadata": {},
     "output_type": "execute_result"
    }
   ],
   "source": [
    "# Print the head\n",
    "df.head()"
   ]
  },
  {
   "cell_type": "code",
   "execution_count": 4,
   "id": "077778e0",
   "metadata": {},
   "outputs": [
    {
     "data": {
      "text/plain": [
       "unstable    6380\n",
       "stable      3620\n",
       "Name: stabf, dtype: int64"
      ]
     },
     "execution_count": 4,
     "metadata": {},
     "output_type": "execute_result"
    }
   ],
   "source": [
    "# Check the distribution of the target class\n",
    "df.stabf.value_counts()"
   ]
  },
  {
   "cell_type": "code",
   "execution_count": 5,
   "id": "8f23ae1c",
   "metadata": {},
   "outputs": [
    {
     "data": {
      "text/plain": [
       "tau1     0\n",
       "tau2     0\n",
       "tau3     0\n",
       "tau4     0\n",
       "p1       0\n",
       "p2       0\n",
       "p3       0\n",
       "p4       0\n",
       "g1       0\n",
       "g2       0\n",
       "g3       0\n",
       "g4       0\n",
       "stab     0\n",
       "stabf    0\n",
       "dtype: int64"
      ]
     },
     "execution_count": 5,
     "metadata": {},
     "output_type": "execute_result"
    }
   ],
   "source": [
    "# Check for missing value\n",
    "df.isnull().sum()"
   ]
  },
  {
   "cell_type": "code",
   "execution_count": 6,
   "id": "c7a36113",
   "metadata": {},
   "outputs": [
    {
     "data": {
      "text/plain": [
       "(10000, 14)"
      ]
     },
     "execution_count": 6,
     "metadata": {},
     "output_type": "execute_result"
    }
   ],
   "source": [
    "# Check the shape of the dataset\n",
    "df.shape"
   ]
  },
  {
   "cell_type": "code",
   "execution_count": 7,
   "id": "534fa402",
   "metadata": {},
   "outputs": [],
   "source": [
    "# let drop the stab column\n",
    "df.drop(columns=[\"stab\"], axis=1, inplace=True)"
   ]
  },
  {
   "cell_type": "code",
   "execution_count": 8,
   "id": "9dea5d85",
   "metadata": {},
   "outputs": [
    {
     "data": {
      "text/html": [
       "<div>\n",
       "<style scoped>\n",
       "    .dataframe tbody tr th:only-of-type {\n",
       "        vertical-align: middle;\n",
       "    }\n",
       "\n",
       "    .dataframe tbody tr th {\n",
       "        vertical-align: top;\n",
       "    }\n",
       "\n",
       "    .dataframe thead th {\n",
       "        text-align: right;\n",
       "    }\n",
       "</style>\n",
       "<table border=\"1\" class=\"dataframe\">\n",
       "  <thead>\n",
       "    <tr style=\"text-align: right;\">\n",
       "      <th></th>\n",
       "      <th>tau1</th>\n",
       "      <th>tau2</th>\n",
       "      <th>tau3</th>\n",
       "      <th>tau4</th>\n",
       "      <th>p1</th>\n",
       "      <th>p2</th>\n",
       "      <th>p3</th>\n",
       "      <th>p4</th>\n",
       "      <th>g1</th>\n",
       "      <th>g2</th>\n",
       "      <th>g3</th>\n",
       "      <th>g4</th>\n",
       "      <th>stabf</th>\n",
       "    </tr>\n",
       "  </thead>\n",
       "  <tbody>\n",
       "    <tr>\n",
       "      <th>0</th>\n",
       "      <td>2.959060</td>\n",
       "      <td>3.079885</td>\n",
       "      <td>8.381025</td>\n",
       "      <td>9.780754</td>\n",
       "      <td>3.763085</td>\n",
       "      <td>-0.782604</td>\n",
       "      <td>-1.257395</td>\n",
       "      <td>-1.723086</td>\n",
       "      <td>0.650456</td>\n",
       "      <td>0.859578</td>\n",
       "      <td>0.887445</td>\n",
       "      <td>0.958034</td>\n",
       "      <td>unstable</td>\n",
       "    </tr>\n",
       "    <tr>\n",
       "      <th>1</th>\n",
       "      <td>9.304097</td>\n",
       "      <td>4.902524</td>\n",
       "      <td>3.047541</td>\n",
       "      <td>1.369357</td>\n",
       "      <td>5.067812</td>\n",
       "      <td>-1.940058</td>\n",
       "      <td>-1.872742</td>\n",
       "      <td>-1.255012</td>\n",
       "      <td>0.413441</td>\n",
       "      <td>0.862414</td>\n",
       "      <td>0.562139</td>\n",
       "      <td>0.781760</td>\n",
       "      <td>stable</td>\n",
       "    </tr>\n",
       "    <tr>\n",
       "      <th>2</th>\n",
       "      <td>8.971707</td>\n",
       "      <td>8.848428</td>\n",
       "      <td>3.046479</td>\n",
       "      <td>1.214518</td>\n",
       "      <td>3.405158</td>\n",
       "      <td>-1.207456</td>\n",
       "      <td>-1.277210</td>\n",
       "      <td>-0.920492</td>\n",
       "      <td>0.163041</td>\n",
       "      <td>0.766689</td>\n",
       "      <td>0.839444</td>\n",
       "      <td>0.109853</td>\n",
       "      <td>unstable</td>\n",
       "    </tr>\n",
       "    <tr>\n",
       "      <th>3</th>\n",
       "      <td>0.716415</td>\n",
       "      <td>7.669600</td>\n",
       "      <td>4.486641</td>\n",
       "      <td>2.340563</td>\n",
       "      <td>3.963791</td>\n",
       "      <td>-1.027473</td>\n",
       "      <td>-1.938944</td>\n",
       "      <td>-0.997374</td>\n",
       "      <td>0.446209</td>\n",
       "      <td>0.976744</td>\n",
       "      <td>0.929381</td>\n",
       "      <td>0.362718</td>\n",
       "      <td>unstable</td>\n",
       "    </tr>\n",
       "    <tr>\n",
       "      <th>4</th>\n",
       "      <td>3.134112</td>\n",
       "      <td>7.608772</td>\n",
       "      <td>4.943759</td>\n",
       "      <td>9.857573</td>\n",
       "      <td>3.525811</td>\n",
       "      <td>-1.125531</td>\n",
       "      <td>-1.845975</td>\n",
       "      <td>-0.554305</td>\n",
       "      <td>0.797110</td>\n",
       "      <td>0.455450</td>\n",
       "      <td>0.656947</td>\n",
       "      <td>0.820923</td>\n",
       "      <td>unstable</td>\n",
       "    </tr>\n",
       "  </tbody>\n",
       "</table>\n",
       "</div>"
      ],
      "text/plain": [
       "       tau1      tau2      tau3      tau4        p1        p2        p3  \\\n",
       "0  2.959060  3.079885  8.381025  9.780754  3.763085 -0.782604 -1.257395   \n",
       "1  9.304097  4.902524  3.047541  1.369357  5.067812 -1.940058 -1.872742   \n",
       "2  8.971707  8.848428  3.046479  1.214518  3.405158 -1.207456 -1.277210   \n",
       "3  0.716415  7.669600  4.486641  2.340563  3.963791 -1.027473 -1.938944   \n",
       "4  3.134112  7.608772  4.943759  9.857573  3.525811 -1.125531 -1.845975   \n",
       "\n",
       "         p4        g1        g2        g3        g4     stabf  \n",
       "0 -1.723086  0.650456  0.859578  0.887445  0.958034  unstable  \n",
       "1 -1.255012  0.413441  0.862414  0.562139  0.781760    stable  \n",
       "2 -0.920492  0.163041  0.766689  0.839444  0.109853  unstable  \n",
       "3 -0.997374  0.446209  0.976744  0.929381  0.362718  unstable  \n",
       "4 -0.554305  0.797110  0.455450  0.656947  0.820923  unstable  "
      ]
     },
     "execution_count": 8,
     "metadata": {},
     "output_type": "execute_result"
    }
   ],
   "source": [
    "# Pirnt the head\n",
    "df.head()"
   ]
  },
  {
   "cell_type": "code",
   "execution_count": null,
   "id": "465f78e8",
   "metadata": {},
   "outputs": [],
   "source": []
  },
  {
   "cell_type": "code",
   "execution_count": 9,
   "id": "c340d4f3",
   "metadata": {},
   "outputs": [
    {
     "data": {
      "text/html": [
       "<div>\n",
       "<style scoped>\n",
       "    .dataframe tbody tr th:only-of-type {\n",
       "        vertical-align: middle;\n",
       "    }\n",
       "\n",
       "    .dataframe tbody tr th {\n",
       "        vertical-align: top;\n",
       "    }\n",
       "\n",
       "    .dataframe thead th {\n",
       "        text-align: right;\n",
       "    }\n",
       "</style>\n",
       "<table border=\"1\" class=\"dataframe\">\n",
       "  <thead>\n",
       "    <tr style=\"text-align: right;\">\n",
       "      <th></th>\n",
       "      <th>tau1</th>\n",
       "      <th>tau2</th>\n",
       "      <th>tau3</th>\n",
       "      <th>tau4</th>\n",
       "      <th>p1</th>\n",
       "      <th>p2</th>\n",
       "      <th>p3</th>\n",
       "      <th>p4</th>\n",
       "      <th>g1</th>\n",
       "      <th>g2</th>\n",
       "      <th>g3</th>\n",
       "      <th>g4</th>\n",
       "      <th>stabf</th>\n",
       "    </tr>\n",
       "  </thead>\n",
       "  <tbody>\n",
       "    <tr>\n",
       "      <th>0</th>\n",
       "      <td>2.959060</td>\n",
       "      <td>3.079885</td>\n",
       "      <td>8.381025</td>\n",
       "      <td>9.780754</td>\n",
       "      <td>3.763085</td>\n",
       "      <td>-0.782604</td>\n",
       "      <td>-1.257395</td>\n",
       "      <td>-1.723086</td>\n",
       "      <td>0.650456</td>\n",
       "      <td>0.859578</td>\n",
       "      <td>0.887445</td>\n",
       "      <td>0.958034</td>\n",
       "      <td>unstable</td>\n",
       "    </tr>\n",
       "    <tr>\n",
       "      <th>1</th>\n",
       "      <td>9.304097</td>\n",
       "      <td>4.902524</td>\n",
       "      <td>3.047541</td>\n",
       "      <td>1.369357</td>\n",
       "      <td>5.067812</td>\n",
       "      <td>-1.940058</td>\n",
       "      <td>-1.872742</td>\n",
       "      <td>-1.255012</td>\n",
       "      <td>0.413441</td>\n",
       "      <td>0.862414</td>\n",
       "      <td>0.562139</td>\n",
       "      <td>0.781760</td>\n",
       "      <td>stable</td>\n",
       "    </tr>\n",
       "    <tr>\n",
       "      <th>2</th>\n",
       "      <td>8.971707</td>\n",
       "      <td>8.848428</td>\n",
       "      <td>3.046479</td>\n",
       "      <td>1.214518</td>\n",
       "      <td>3.405158</td>\n",
       "      <td>-1.207456</td>\n",
       "      <td>-1.277210</td>\n",
       "      <td>-0.920492</td>\n",
       "      <td>0.163041</td>\n",
       "      <td>0.766689</td>\n",
       "      <td>0.839444</td>\n",
       "      <td>0.109853</td>\n",
       "      <td>unstable</td>\n",
       "    </tr>\n",
       "    <tr>\n",
       "      <th>3</th>\n",
       "      <td>0.716415</td>\n",
       "      <td>7.669600</td>\n",
       "      <td>4.486641</td>\n",
       "      <td>2.340563</td>\n",
       "      <td>3.963791</td>\n",
       "      <td>-1.027473</td>\n",
       "      <td>-1.938944</td>\n",
       "      <td>-0.997374</td>\n",
       "      <td>0.446209</td>\n",
       "      <td>0.976744</td>\n",
       "      <td>0.929381</td>\n",
       "      <td>0.362718</td>\n",
       "      <td>unstable</td>\n",
       "    </tr>\n",
       "    <tr>\n",
       "      <th>4</th>\n",
       "      <td>3.134112</td>\n",
       "      <td>7.608772</td>\n",
       "      <td>4.943759</td>\n",
       "      <td>9.857573</td>\n",
       "      <td>3.525811</td>\n",
       "      <td>-1.125531</td>\n",
       "      <td>-1.845975</td>\n",
       "      <td>-0.554305</td>\n",
       "      <td>0.797110</td>\n",
       "      <td>0.455450</td>\n",
       "      <td>0.656947</td>\n",
       "      <td>0.820923</td>\n",
       "      <td>unstable</td>\n",
       "    </tr>\n",
       "  </tbody>\n",
       "</table>\n",
       "</div>"
      ],
      "text/plain": [
       "       tau1      tau2      tau3      tau4        p1        p2        p3  \\\n",
       "0  2.959060  3.079885  8.381025  9.780754  3.763085 -0.782604 -1.257395   \n",
       "1  9.304097  4.902524  3.047541  1.369357  5.067812 -1.940058 -1.872742   \n",
       "2  8.971707  8.848428  3.046479  1.214518  3.405158 -1.207456 -1.277210   \n",
       "3  0.716415  7.669600  4.486641  2.340563  3.963791 -1.027473 -1.938944   \n",
       "4  3.134112  7.608772  4.943759  9.857573  3.525811 -1.125531 -1.845975   \n",
       "\n",
       "         p4        g1        g2        g3        g4     stabf  \n",
       "0 -1.723086  0.650456  0.859578  0.887445  0.958034  unstable  \n",
       "1 -1.255012  0.413441  0.862414  0.562139  0.781760    stable  \n",
       "2 -0.920492  0.163041  0.766689  0.839444  0.109853  unstable  \n",
       "3 -0.997374  0.446209  0.976744  0.929381  0.362718  unstable  \n",
       "4 -0.554305  0.797110  0.455450  0.656947  0.820923  unstable  "
      ]
     },
     "execution_count": 9,
     "metadata": {},
     "output_type": "execute_result"
    }
   ],
   "source": [
    "df.head()"
   ]
  },
  {
   "cell_type": "code",
   "execution_count": 10,
   "id": "87ad260b",
   "metadata": {},
   "outputs": [],
   "source": [
    "# Define X and y\n",
    "X = df.drop(columns = \"stabf\")\n",
    "y = df[\"stabf\"]"
   ]
  },
  {
   "cell_type": "code",
   "execution_count": 11,
   "id": "6bcf7dbe",
   "metadata": {},
   "outputs": [
    {
     "data": {
      "text/html": [
       "<div>\n",
       "<style scoped>\n",
       "    .dataframe tbody tr th:only-of-type {\n",
       "        vertical-align: middle;\n",
       "    }\n",
       "\n",
       "    .dataframe tbody tr th {\n",
       "        vertical-align: top;\n",
       "    }\n",
       "\n",
       "    .dataframe thead th {\n",
       "        text-align: right;\n",
       "    }\n",
       "</style>\n",
       "<table border=\"1\" class=\"dataframe\">\n",
       "  <thead>\n",
       "    <tr style=\"text-align: right;\">\n",
       "      <th></th>\n",
       "      <th>tau1</th>\n",
       "      <th>tau2</th>\n",
       "      <th>tau3</th>\n",
       "      <th>tau4</th>\n",
       "      <th>p1</th>\n",
       "      <th>p2</th>\n",
       "      <th>p3</th>\n",
       "      <th>p4</th>\n",
       "      <th>g1</th>\n",
       "      <th>g2</th>\n",
       "      <th>g3</th>\n",
       "      <th>g4</th>\n",
       "    </tr>\n",
       "  </thead>\n",
       "  <tbody>\n",
       "    <tr>\n",
       "      <th>0</th>\n",
       "      <td>2.959060</td>\n",
       "      <td>3.079885</td>\n",
       "      <td>8.381025</td>\n",
       "      <td>9.780754</td>\n",
       "      <td>3.763085</td>\n",
       "      <td>-0.782604</td>\n",
       "      <td>-1.257395</td>\n",
       "      <td>-1.723086</td>\n",
       "      <td>0.650456</td>\n",
       "      <td>0.859578</td>\n",
       "      <td>0.887445</td>\n",
       "      <td>0.958034</td>\n",
       "    </tr>\n",
       "    <tr>\n",
       "      <th>1</th>\n",
       "      <td>9.304097</td>\n",
       "      <td>4.902524</td>\n",
       "      <td>3.047541</td>\n",
       "      <td>1.369357</td>\n",
       "      <td>5.067812</td>\n",
       "      <td>-1.940058</td>\n",
       "      <td>-1.872742</td>\n",
       "      <td>-1.255012</td>\n",
       "      <td>0.413441</td>\n",
       "      <td>0.862414</td>\n",
       "      <td>0.562139</td>\n",
       "      <td>0.781760</td>\n",
       "    </tr>\n",
       "    <tr>\n",
       "      <th>2</th>\n",
       "      <td>8.971707</td>\n",
       "      <td>8.848428</td>\n",
       "      <td>3.046479</td>\n",
       "      <td>1.214518</td>\n",
       "      <td>3.405158</td>\n",
       "      <td>-1.207456</td>\n",
       "      <td>-1.277210</td>\n",
       "      <td>-0.920492</td>\n",
       "      <td>0.163041</td>\n",
       "      <td>0.766689</td>\n",
       "      <td>0.839444</td>\n",
       "      <td>0.109853</td>\n",
       "    </tr>\n",
       "    <tr>\n",
       "      <th>3</th>\n",
       "      <td>0.716415</td>\n",
       "      <td>7.669600</td>\n",
       "      <td>4.486641</td>\n",
       "      <td>2.340563</td>\n",
       "      <td>3.963791</td>\n",
       "      <td>-1.027473</td>\n",
       "      <td>-1.938944</td>\n",
       "      <td>-0.997374</td>\n",
       "      <td>0.446209</td>\n",
       "      <td>0.976744</td>\n",
       "      <td>0.929381</td>\n",
       "      <td>0.362718</td>\n",
       "    </tr>\n",
       "    <tr>\n",
       "      <th>4</th>\n",
       "      <td>3.134112</td>\n",
       "      <td>7.608772</td>\n",
       "      <td>4.943759</td>\n",
       "      <td>9.857573</td>\n",
       "      <td>3.525811</td>\n",
       "      <td>-1.125531</td>\n",
       "      <td>-1.845975</td>\n",
       "      <td>-0.554305</td>\n",
       "      <td>0.797110</td>\n",
       "      <td>0.455450</td>\n",
       "      <td>0.656947</td>\n",
       "      <td>0.820923</td>\n",
       "    </tr>\n",
       "  </tbody>\n",
       "</table>\n",
       "</div>"
      ],
      "text/plain": [
       "       tau1      tau2      tau3      tau4        p1        p2        p3  \\\n",
       "0  2.959060  3.079885  8.381025  9.780754  3.763085 -0.782604 -1.257395   \n",
       "1  9.304097  4.902524  3.047541  1.369357  5.067812 -1.940058 -1.872742   \n",
       "2  8.971707  8.848428  3.046479  1.214518  3.405158 -1.207456 -1.277210   \n",
       "3  0.716415  7.669600  4.486641  2.340563  3.963791 -1.027473 -1.938944   \n",
       "4  3.134112  7.608772  4.943759  9.857573  3.525811 -1.125531 -1.845975   \n",
       "\n",
       "         p4        g1        g2        g3        g4  \n",
       "0 -1.723086  0.650456  0.859578  0.887445  0.958034  \n",
       "1 -1.255012  0.413441  0.862414  0.562139  0.781760  \n",
       "2 -0.920492  0.163041  0.766689  0.839444  0.109853  \n",
       "3 -0.997374  0.446209  0.976744  0.929381  0.362718  \n",
       "4 -0.554305  0.797110  0.455450  0.656947  0.820923  "
      ]
     },
     "execution_count": 11,
     "metadata": {},
     "output_type": "execute_result"
    }
   ],
   "source": [
    "# Check the columns in X by printing the first five rows\n",
    "X.head()"
   ]
  },
  {
   "cell_type": "code",
   "execution_count": 12,
   "id": "41b28e49",
   "metadata": {},
   "outputs": [
    {
     "data": {
      "text/plain": [
       "0    unstable\n",
       "1      stable\n",
       "2    unstable\n",
       "3    unstable\n",
       "4    unstable\n",
       "Name: stabf, dtype: object"
      ]
     },
     "execution_count": 12,
     "metadata": {},
     "output_type": "execute_result"
    }
   ],
   "source": [
    "# print five records in y\n",
    "y.head()"
   ]
  },
  {
   "cell_type": "code",
   "execution_count": 13,
   "id": "d15d965e",
   "metadata": {},
   "outputs": [
    {
     "name": "stdout",
     "output_type": "stream",
     "text": [
      "The shape of X is : (10000, 12)\n",
      "The shape of y is : (10000,)\n"
     ]
    }
   ],
   "source": [
    "# Check the shape of X and y\n",
    "print(\"The shape of X is :\", X.shape)\n",
    "print(\"The shape of y is :\", y.shape)"
   ]
  },
  {
   "cell_type": "code",
   "execution_count": 14,
   "id": "39c8c442",
   "metadata": {},
   "outputs": [],
   "source": [
    "# Split the dataset into training and testing set\n",
    "from sklearn.model_selection import train_test_split\n",
    "X_train, X_test, y_train, y_test = train_test_split(X, y, test_size=0.2, random_state=1)"
   ]
  },
  {
   "cell_type": "code",
   "execution_count": 15,
   "id": "62368f55",
   "metadata": {},
   "outputs": [
    {
     "name": "stdout",
     "output_type": "stream",
     "text": [
      "The shape of X_train is (8000, 12) and X_test is (2000, 12)\n",
      "The shape of y_train is (8000,) and y_test is (2000,)\n"
     ]
    }
   ],
   "source": [
    "# Get the shape of X_train, X_test, y_train, and y_test\n",
    "print(\"The shape of X_train is {} and X_test is {}\".format(X_train.shape, X_test.shape))\n",
    "print(\"The shape of y_train is {} and y_test is {}\".format(y_train.shape, y_test.shape))"
   ]
  },
  {
   "cell_type": "code",
   "execution_count": 16,
   "id": "b5667ff8",
   "metadata": {},
   "outputs": [
    {
     "data": {
      "text/plain": [
       "unstable    5092\n",
       "stable      2908\n",
       "Name: stabf, dtype: int64"
      ]
     },
     "execution_count": 16,
     "metadata": {},
     "output_type": "execute_result"
    }
   ],
   "source": [
    "y_train.value_counts()"
   ]
  },
  {
   "cell_type": "code",
   "execution_count": 17,
   "id": "eca94f95",
   "metadata": {},
   "outputs": [],
   "source": [
    "# normalizing the training set\n",
    "from sklearn.preprocessing import StandardScaler\n",
    "scaler = StandardScaler()\n",
    "\n",
    "normalized_train_df = scaler.fit_transform(X_train)\n",
    "\n",
    "# Convert the normalized version to a dataframe\n",
    "\n",
    "normalized_train_df = pd.DataFrame(normalized_train_df, columns = X_train.columns)"
   ]
  },
  {
   "cell_type": "code",
   "execution_count": 18,
   "id": "d2763c25",
   "metadata": {},
   "outputs": [
    {
     "data": {
      "text/html": [
       "<div>\n",
       "<style scoped>\n",
       "    .dataframe tbody tr th:only-of-type {\n",
       "        vertical-align: middle;\n",
       "    }\n",
       "\n",
       "    .dataframe tbody tr th {\n",
       "        vertical-align: top;\n",
       "    }\n",
       "\n",
       "    .dataframe thead th {\n",
       "        text-align: right;\n",
       "    }\n",
       "</style>\n",
       "<table border=\"1\" class=\"dataframe\">\n",
       "  <thead>\n",
       "    <tr style=\"text-align: right;\">\n",
       "      <th></th>\n",
       "      <th>tau1</th>\n",
       "      <th>tau2</th>\n",
       "      <th>tau3</th>\n",
       "      <th>tau4</th>\n",
       "      <th>p1</th>\n",
       "      <th>p2</th>\n",
       "      <th>p3</th>\n",
       "      <th>p4</th>\n",
       "      <th>g1</th>\n",
       "      <th>g2</th>\n",
       "      <th>g3</th>\n",
       "      <th>g4</th>\n",
       "    </tr>\n",
       "  </thead>\n",
       "  <tbody>\n",
       "    <tr>\n",
       "      <th>0</th>\n",
       "      <td>0.367327</td>\n",
       "      <td>-0.986042</td>\n",
       "      <td>0.650447</td>\n",
       "      <td>1.547527</td>\n",
       "      <td>-0.291490</td>\n",
       "      <td>0.061535</td>\n",
       "      <td>1.293862</td>\n",
       "      <td>-0.845074</td>\n",
       "      <td>0.160918</td>\n",
       "      <td>0.339859</td>\n",
       "      <td>0.585568</td>\n",
       "      <td>0.492239</td>\n",
       "    </tr>\n",
       "    <tr>\n",
       "      <th>1</th>\n",
       "      <td>-0.064659</td>\n",
       "      <td>0.089437</td>\n",
       "      <td>1.035079</td>\n",
       "      <td>-1.641494</td>\n",
       "      <td>0.619865</td>\n",
       "      <td>-0.067235</td>\n",
       "      <td>-1.502925</td>\n",
       "      <td>0.486613</td>\n",
       "      <td>-0.293143</td>\n",
       "      <td>-1.558488</td>\n",
       "      <td>1.429649</td>\n",
       "      <td>-1.443521</td>\n",
       "    </tr>\n",
       "    <tr>\n",
       "      <th>2</th>\n",
       "      <td>-1.467850</td>\n",
       "      <td>1.298418</td>\n",
       "      <td>-0.502536</td>\n",
       "      <td>1.166046</td>\n",
       "      <td>-0.180521</td>\n",
       "      <td>0.490603</td>\n",
       "      <td>0.682560</td>\n",
       "      <td>-0.855302</td>\n",
       "      <td>1.399350</td>\n",
       "      <td>1.451534</td>\n",
       "      <td>-1.045743</td>\n",
       "      <td>0.492489</td>\n",
       "    </tr>\n",
       "    <tr>\n",
       "      <th>3</th>\n",
       "      <td>0.820081</td>\n",
       "      <td>0.529920</td>\n",
       "      <td>1.299657</td>\n",
       "      <td>-1.141975</td>\n",
       "      <td>-0.812854</td>\n",
       "      <td>-0.763632</td>\n",
       "      <td>1.521579</td>\n",
       "      <td>0.658780</td>\n",
       "      <td>-0.958319</td>\n",
       "      <td>1.361958</td>\n",
       "      <td>1.604140</td>\n",
       "      <td>0.275303</td>\n",
       "    </tr>\n",
       "    <tr>\n",
       "      <th>4</th>\n",
       "      <td>0.665424</td>\n",
       "      <td>-1.425627</td>\n",
       "      <td>0.312300</td>\n",
       "      <td>0.919137</td>\n",
       "      <td>-1.614296</td>\n",
       "      <td>0.760315</td>\n",
       "      <td>1.422019</td>\n",
       "      <td>0.639243</td>\n",
       "      <td>1.676895</td>\n",
       "      <td>0.695660</td>\n",
       "      <td>1.137504</td>\n",
       "      <td>-1.312575</td>\n",
       "    </tr>\n",
       "  </tbody>\n",
       "</table>\n",
       "</div>"
      ],
      "text/plain": [
       "       tau1      tau2      tau3      tau4        p1        p2        p3  \\\n",
       "0  0.367327 -0.986042  0.650447  1.547527 -0.291490  0.061535  1.293862   \n",
       "1 -0.064659  0.089437  1.035079 -1.641494  0.619865 -0.067235 -1.502925   \n",
       "2 -1.467850  1.298418 -0.502536  1.166046 -0.180521  0.490603  0.682560   \n",
       "3  0.820081  0.529920  1.299657 -1.141975 -0.812854 -0.763632  1.521579   \n",
       "4  0.665424 -1.425627  0.312300  0.919137 -1.614296  0.760315  1.422019   \n",
       "\n",
       "         p4        g1        g2        g3        g4  \n",
       "0 -0.845074  0.160918  0.339859  0.585568  0.492239  \n",
       "1  0.486613 -0.293143 -1.558488  1.429649 -1.443521  \n",
       "2 -0.855302  1.399350  1.451534 -1.045743  0.492489  \n",
       "3  0.658780 -0.958319  1.361958  1.604140  0.275303  \n",
       "4  0.639243  1.676895  0.695660  1.137504 -1.312575  "
      ]
     },
     "execution_count": 18,
     "metadata": {},
     "output_type": "execute_result"
    }
   ],
   "source": [
    "normalized_train_df.head()"
   ]
  },
  {
   "cell_type": "code",
   "execution_count": 19,
   "id": "5c665177",
   "metadata": {},
   "outputs": [],
   "source": [
    "# Normalizing the testing dataset\n",
    "X_test = X_test.reset_index(drop=True)\n",
    "normalized_test_df = scaler.transform(X_test)\n",
    "\n",
    "# Convert the normalized test set to a dataframe\n",
    "normalized_test_df = pd.DataFrame(normalized_test_df, columns = X_test.columns)"
   ]
  },
  {
   "cell_type": "code",
   "execution_count": 20,
   "id": "a82b640f",
   "metadata": {},
   "outputs": [
    {
     "data": {
      "text/html": [
       "<div>\n",
       "<style scoped>\n",
       "    .dataframe tbody tr th:only-of-type {\n",
       "        vertical-align: middle;\n",
       "    }\n",
       "\n",
       "    .dataframe tbody tr th {\n",
       "        vertical-align: top;\n",
       "    }\n",
       "\n",
       "    .dataframe thead th {\n",
       "        text-align: right;\n",
       "    }\n",
       "</style>\n",
       "<table border=\"1\" class=\"dataframe\">\n",
       "  <thead>\n",
       "    <tr style=\"text-align: right;\">\n",
       "      <th></th>\n",
       "      <th>tau1</th>\n",
       "      <th>tau2</th>\n",
       "      <th>tau3</th>\n",
       "      <th>tau4</th>\n",
       "      <th>p1</th>\n",
       "      <th>p2</th>\n",
       "      <th>p3</th>\n",
       "      <th>p4</th>\n",
       "      <th>g1</th>\n",
       "      <th>g2</th>\n",
       "      <th>g3</th>\n",
       "      <th>g4</th>\n",
       "    </tr>\n",
       "  </thead>\n",
       "  <tbody>\n",
       "    <tr>\n",
       "      <th>0</th>\n",
       "      <td>0.593951</td>\n",
       "      <td>-0.412733</td>\n",
       "      <td>1.503924</td>\n",
       "      <td>1.116943</td>\n",
       "      <td>0.403423</td>\n",
       "      <td>-1.492971</td>\n",
       "      <td>-0.785033</td>\n",
       "      <td>1.566781</td>\n",
       "      <td>-0.901007</td>\n",
       "      <td>1.167203</td>\n",
       "      <td>-1.507330</td>\n",
       "      <td>1.084726</td>\n",
       "    </tr>\n",
       "    <tr>\n",
       "      <th>1</th>\n",
       "      <td>0.202190</td>\n",
       "      <td>0.374416</td>\n",
       "      <td>-0.188800</td>\n",
       "      <td>-0.522268</td>\n",
       "      <td>-0.225967</td>\n",
       "      <td>-1.058483</td>\n",
       "      <td>0.420047</td>\n",
       "      <td>1.028627</td>\n",
       "      <td>-1.625721</td>\n",
       "      <td>-0.395660</td>\n",
       "      <td>1.414651</td>\n",
       "      <td>1.226011</td>\n",
       "    </tr>\n",
       "    <tr>\n",
       "      <th>2</th>\n",
       "      <td>-1.079044</td>\n",
       "      <td>-0.313745</td>\n",
       "      <td>-0.884634</td>\n",
       "      <td>0.017080</td>\n",
       "      <td>-0.943122</td>\n",
       "      <td>0.112653</td>\n",
       "      <td>0.801335</td>\n",
       "      <td>0.733004</td>\n",
       "      <td>1.457108</td>\n",
       "      <td>-1.438495</td>\n",
       "      <td>0.651821</td>\n",
       "      <td>-1.682168</td>\n",
       "    </tr>\n",
       "    <tr>\n",
       "      <th>3</th>\n",
       "      <td>-0.083120</td>\n",
       "      <td>-1.107327</td>\n",
       "      <td>0.372805</td>\n",
       "      <td>-1.708152</td>\n",
       "      <td>0.753990</td>\n",
       "      <td>-1.637972</td>\n",
       "      <td>0.403805</td>\n",
       "      <td>-0.088036</td>\n",
       "      <td>0.083322</td>\n",
       "      <td>-1.672322</td>\n",
       "      <td>-0.357714</td>\n",
       "      <td>1.055865</td>\n",
       "    </tr>\n",
       "    <tr>\n",
       "      <th>4</th>\n",
       "      <td>0.873921</td>\n",
       "      <td>1.438466</td>\n",
       "      <td>0.086662</td>\n",
       "      <td>1.715037</td>\n",
       "      <td>-0.153880</td>\n",
       "      <td>-0.007015</td>\n",
       "      <td>-0.197053</td>\n",
       "      <td>0.472315</td>\n",
       "      <td>0.136549</td>\n",
       "      <td>-1.469731</td>\n",
       "      <td>0.956396</td>\n",
       "      <td>-0.819727</td>\n",
       "    </tr>\n",
       "  </tbody>\n",
       "</table>\n",
       "</div>"
      ],
      "text/plain": [
       "       tau1      tau2      tau3      tau4        p1        p2        p3  \\\n",
       "0  0.593951 -0.412733  1.503924  1.116943  0.403423 -1.492971 -0.785033   \n",
       "1  0.202190  0.374416 -0.188800 -0.522268 -0.225967 -1.058483  0.420047   \n",
       "2 -1.079044 -0.313745 -0.884634  0.017080 -0.943122  0.112653  0.801335   \n",
       "3 -0.083120 -1.107327  0.372805 -1.708152  0.753990 -1.637972  0.403805   \n",
       "4  0.873921  1.438466  0.086662  1.715037 -0.153880 -0.007015 -0.197053   \n",
       "\n",
       "         p4        g1        g2        g3        g4  \n",
       "0  1.566781 -0.901007  1.167203 -1.507330  1.084726  \n",
       "1  1.028627 -1.625721 -0.395660  1.414651  1.226011  \n",
       "2  0.733004  1.457108 -1.438495  0.651821 -1.682168  \n",
       "3 -0.088036  0.083322 -1.672322 -0.357714  1.055865  \n",
       "4  0.472315  0.136549 -1.469731  0.956396 -0.819727  "
      ]
     },
     "execution_count": 20,
     "metadata": {},
     "output_type": "execute_result"
    }
   ],
   "source": [
    "normalized_test_df.head()"
   ]
  },
  {
   "cell_type": "markdown",
   "id": "f2e537d6",
   "metadata": {},
   "source": [
    "# Building the Model"
   ]
  },
  {
   "cell_type": "code",
   "execution_count": 21,
   "id": "b60adc05",
   "metadata": {},
   "outputs": [],
   "source": [
    "# Import the relevant classifier models\n",
    "from sklearn.ensemble import RandomForestClassifier\n",
    "from sklearn.ensemble import ExtraTreesClassifier\n",
    "from xgboost import XGBClassifier\n",
    "from lightgbm import LGBMClassifier"
   ]
  },
  {
   "cell_type": "code",
   "execution_count": 22,
   "id": "c52437db",
   "metadata": {},
   "outputs": [],
   "source": [
    "# Instantiate all the models class\n",
    "rfc = RandomForestClassifier(random_state=1)\n",
    "extc = ExtraTreesClassifier(random_state=1)\n",
    "xgb = XGBClassifier(max_depth=3, learning_rate=0.1, random_state=1)\n",
    "lgbm = LGBMClassifier(random_state=1)"
   ]
  },
  {
   "cell_type": "code",
   "execution_count": 23,
   "id": "4673fb51",
   "metadata": {},
   "outputs": [],
   "source": [
    "# Train the RandomForestclassifier model\n",
    "rfc.fit(normalized_train_df, y_train)\n",
    "\n",
    "# make prediction with the model\n",
    "y_pred = rfc.predict(normalized_test_df)"
   ]
  },
  {
   "cell_type": "code",
   "execution_count": 24,
   "id": "3b4d9a5b",
   "metadata": {},
   "outputs": [
    {
     "name": "stdout",
     "output_type": "stream",
     "text": [
      "Accuracy: 0.929\n"
     ]
    }
   ],
   "source": [
    "# print the accuracy of the model\n",
    "from sklearn.metrics import accuracy_score\n",
    "accuracy = accuracy_score(y_true=y_test, y_pred=y_pred)\n",
    "accuracy\n",
    "print('Accuracy: {}'.format(round(accuracy, 4)))"
   ]
  },
  {
   "cell_type": "code",
   "execution_count": 29,
   "id": "d7770842",
   "metadata": {},
   "outputs": [
    {
     "name": "stdout",
     "output_type": "stream",
     "text": [
      "Accuracy: 0.9195\n"
     ]
    }
   ],
   "source": [
    "# Train the XGB Classifier model\n",
    "\n",
    "#Training this model requires label encoding for the target class\n",
    "\n",
    "from sklearn.preprocessing import LabelEncoder\n",
    "\n",
    "label_encoder = LabelEncoder()\n",
    "\n",
    "df[\"stabf\"] = label_encoder.fit_transform(df[\"stabf\"])\n",
    "\n",
    "# Define X1 and y1\n",
    "X1 = df.drop(columns = \"stabf\")\n",
    "y1 = df[\"stabf\"]\n",
    "\n",
    "# split the dataset\n",
    "from sklearn.model_selection import train_test_split\n",
    "X_train1, X_test1, y_train1, y_test1 = train_test_split(X1, y1, test_size=0.2, random_state=1)\n",
    "\n",
    "# normalizing the training and testing set\n",
    "from sklearn.preprocessing import StandardScaler\n",
    "scaler = StandardScaler()\n",
    "\n",
    "normalized_train_df1 = scaler.fit_transform(X_train1)\n",
    "\n",
    "# Convert the normalized version to a dataframe\n",
    "\n",
    "normalized_train_df1 = pd.DataFrame(normalized_train_df1, columns = X_train1.columns)\n",
    "\n",
    "\n",
    "X_test1 = X_test1.reset_index(drop=True)\n",
    "normalized_test_df1 = scaler.transform(X_test1)\n",
    "\n",
    "# Convert the normalized test set to a dataframe\n",
    "normalized_test_df1 = pd.DataFrame(normalized_test_df1, columns = X_test1.columns)\n",
    "\n",
    "# Train the model\n",
    "xgb.fit(normalized_train_df1, y_train1)\n",
    "\n",
    "# Make Prediction with the model\n",
    "y_pred = xgb.predict(normalized_test_df1)\n",
    "\n",
    "# Evaluate the model accuracy\n",
    "accuracy = accuracy_score(y_true=y_test1, y_pred=y_pred)\n",
    "print('Accuracy: {}'.format(round(accuracy, 4)))"
   ]
  },
  {
   "cell_type": "code",
   "execution_count": 25,
   "id": "be6b0b96",
   "metadata": {},
   "outputs": [
    {
     "name": "stdout",
     "output_type": "stream",
     "text": [
      "Accuracy: 0.9395\n"
     ]
    }
   ],
   "source": [
    "# Train the LGBMClassifier \n",
    "lgbm.fit(normalized_train_df, y_train)\n",
    "\n",
    "# make prediction with the model\n",
    "\n",
    "y_pred2 = lgbm.predict(normalized_test_df)\n",
    "\n",
    "# Calculate the model accuracy\n",
    "accuracy = accuracy_score(y_true=y_test, y_pred=y_pred2)\n",
    "print('Accuracy: {}'.format(round(accuracy, 4)))"
   ]
  },
  {
   "cell_type": "code",
   "execution_count": 26,
   "id": "89365979",
   "metadata": {},
   "outputs": [],
   "source": [
    "# Define the hyperparameter grid needed to run a Randomized Cross Validation Search (RandomizedSearchCV).\n",
    "\n",
    "n_estimators = [50, 100, 300, 500, 1000]\n",
    "\n",
    "min_samples_split = [2, 3, 5, 7, 9]\n",
    "\n",
    "min_samples_leaf = [1, 2, 4, 6, 8]\n",
    "\n",
    "max_features = ['sqrt'] \n",
    "\n",
    "hyperparameter_grid = {'n_estimators': n_estimators,\n",
    "                       'min_samples_leaf': min_samples_leaf,\n",
    "                       'min_samples_split': min_samples_split,\n",
    "                       'max_features': max_features}\n",
    "    "
   ]
  },
  {
   "cell_type": "code",
   "execution_count": 30,
   "id": "a53383c9",
   "metadata": {},
   "outputs": [],
   "source": [
    "# Define the training model function to be used for RandomiezdCV\n",
    "def model_training(model, X_train = normalized_train_df, y_train = y_train, X_test = normalized_test_df):\n",
    "    model.fit(X_train, y_train)\n",
    "    y_pred = model.predict(X_test)\n",
    "   \n",
    "    return classification_report(y_pred, y_test)"
   ]
  },
  {
   "cell_type": "code",
   "execution_count": 31,
   "id": "2d14e0f3",
   "metadata": {},
   "outputs": [],
   "source": [
    "# Define the training model function to be used for RandomiezdCV\n",
    "def model_training1(model, X_train = normalized_train_df1, y_train = y_train1, X_test = normalized_test_df1):\n",
    "    model.fit(X_train, y_train)\n",
    "    y_pred = model.predict(X_test)\n",
    "   \n",
    "    return classification_report(y_pred, y_test1)"
   ]
  },
  {
   "cell_type": "code",
   "execution_count": 33,
   "id": "d29d8dc0",
   "metadata": {},
   "outputs": [],
   "source": [
    "from sklearn.model_selection import RandomizedSearchCV\n",
    "# Define Randomized Search Cross Validation \n",
    "\n",
    "RSCV = RandomizedSearchCV(extc, hyperparameter_grid, random_state=1)"
   ]
  },
  {
   "cell_type": "code",
   "execution_count": 34,
   "id": "9943ca60",
   "metadata": {},
   "outputs": [
    {
     "name": "stdout",
     "output_type": "stream",
     "text": [
      "Classification Report using RandomForestClassifier \n",
      "               precision    recall  f1-score   support\n",
      "\n",
      "      stable       0.88      0.92      0.90       680\n",
      "    unstable       0.96      0.93      0.95      1320\n",
      "\n",
      "    accuracy                           0.93      2000\n",
      "   macro avg       0.92      0.93      0.92      2000\n",
      "weighted avg       0.93      0.93      0.93      2000\n",
      "\n",
      "Classification Report using ExtraTreesClassifier \n",
      "               precision    recall  f1-score   support\n",
      "\n",
      "      stable       0.85      0.94      0.89       644\n",
      "    unstable       0.97      0.92      0.95      1356\n",
      "\n",
      "    accuracy                           0.93      2000\n",
      "   macro avg       0.91      0.93      0.92      2000\n",
      "weighted avg       0.93      0.93      0.93      2000\n",
      "\n",
      "Classification Report using XGBClassifier \n",
      "               precision    recall  f1-score   support\n",
      "\n",
      "           0       0.85      0.92      0.88       655\n",
      "           1       0.96      0.92      0.94      1345\n",
      "\n",
      "    accuracy                           0.92      2000\n",
      "   macro avg       0.90      0.92      0.91      2000\n",
      "weighted avg       0.92      0.92      0.92      2000\n",
      "\n",
      "Classification Report using LGBMClassifier \n",
      "               precision    recall  f1-score   support\n",
      "\n",
      "      stable       0.90      0.93      0.91       691\n",
      "    unstable       0.96      0.95      0.95      1309\n",
      "\n",
      "    accuracy                           0.94      2000\n",
      "   macro avg       0.93      0.94      0.93      2000\n",
      "weighted avg       0.94      0.94      0.94      2000\n",
      "\n",
      "Classification Report using RandomizedSearchCV \n",
      "               precision    recall  f1-score   support\n",
      "\n",
      "      stable       0.82      0.97      0.89       606\n",
      "    unstable       0.99      0.91      0.95      1394\n",
      "\n",
      "    accuracy                           0.93      2000\n",
      "   macro avg       0.90      0.94      0.92      2000\n",
      "weighted avg       0.94      0.93      0.93      2000\n",
      "\n"
     ]
    }
   ],
   "source": [
    "# Printing the Classification report of each model\n",
    "print(\"Classification Report using RandomForestClassifier \\n\", model_training(rfc))\n",
    "print(\"Classification Report using ExtraTreesClassifier \\n\", model_training(extc))\n",
    "print(\"Classification Report using XGBClassifier \\n\", model_training1(xgb))\n",
    "print(\"Classification Report using LGBMClassifier \\n\", model_training(lgbm))\n",
    "print(\"Classification Report using RandomizedSearchCV \\n\", model_training(RSCV))"
   ]
  },
  {
   "cell_type": "code",
   "execution_count": 35,
   "id": "b3c73fda",
   "metadata": {},
   "outputs": [],
   "source": [
    "# Create a confusion matrix function for all the model\n",
    "def main_confusion_matrix(model, X_train = normalized_train_df, X_test=normalized_test_df, y_test = y_test, labels = ['stable', 'unstable']):\n",
    "    y_pred = model.predict(normalized_test_df)\n",
    "    cnf_mat = confusion_matrix(y_true=y_test, y_pred=y_pred, labels=labels)\n",
    "    return cnf_mat"
   ]
  },
  {
   "cell_type": "code",
   "execution_count": 36,
   "id": "c5dd14fd",
   "metadata": {},
   "outputs": [],
   "source": [
    "def main_confusion_matrix1(model, X_train = normalized_train_df1, X_test=normalized_test_df1, y_test = y_test1, labels = ['0', '1']):\n",
    "    y_pred = model.predict(normalized_test_df1)\n",
    "    cnf_mat = confusion_matrix(y_true=y_test1, y_pred=y_pred, labels=labels)\n",
    "    return cnf_mat"
   ]
  },
  {
   "cell_type": "code",
   "execution_count": 37,
   "id": "14917875",
   "metadata": {
    "scrolled": true
   },
   "outputs": [
    {
     "name": "stdout",
     "output_type": "stream",
     "text": [
      "Confusion Matrix using RandomForestClassifier \n",
      " [[ 625   87]\n",
      " [  55 1233]]\n",
      "Confusion Matrix using ExtraTreesClassifier \n",
      " [[ 606  106]\n",
      " [  38 1250]]\n",
      "Confusion Matrix using XGBClassifier \n",
      " [[0 0]\n",
      " [0 0]]\n",
      "Confusion Matrix using LGBMClassifier \n",
      " [[ 641   71]\n",
      " [  50 1238]]\n",
      "Confusion Matrix using RandomizedSearchCV \n",
      " [[ 587  125]\n",
      " [  19 1269]]\n"
     ]
    }
   ],
   "source": [
    "# Printing out confusion matrix of all the models\n",
    "print(\"Confusion Matrix using RandomForestClassifier \\n\", main_confusion_matrix(rfc))\n",
    "print(\"Confusion Matrix using ExtraTreesClassifier \\n\", main_confusion_matrix(extc))\n",
    "print(\"Confusion Matrix using XGBClassifier \\n\", main_confusion_matrix1(xgb))\n",
    "print(\"Confusion Matrix using LGBMClassifier \\n\", main_confusion_matrix(lgbm))\n",
    "print(\"Confusion Matrix using RandomizedSearchCV \\n\", main_confusion_matrix(RSCV))"
   ]
  },
  {
   "cell_type": "markdown",
   "id": "3591ca0f",
   "metadata": {},
   "source": [
    "# Calculating Cros_val_score for all the models"
   ]
  },
  {
   "cell_type": "code",
   "execution_count": 38,
   "id": "25936ff3",
   "metadata": {},
   "outputs": [],
   "source": [
    "# Estimating the cross_val_score\n",
    "from sklearn.model_selection import cross_val_score\n",
    "def cross_val(model,X_train = normalized_train_df, X_test = normalized_test_df, y_train=y_train ):\n",
    "    scores = cross_val_score(model, X_train, y_train, cv=5, scoring='f1_macro')\n",
    "    return scores.mean()*100"
   ]
  },
  {
   "cell_type": "code",
   "execution_count": 39,
   "id": "216a0471",
   "metadata": {},
   "outputs": [],
   "source": [
    "# Estimating the cross_val_score\n",
    "from sklearn.model_selection import cross_val_score\n",
    "def cross_val1(model,X_train = normalized_train_df1, X_test = normalized_test_df1, y_train=y_train1):\n",
    "    scores = cross_val_score(model, X_train, y_train, cv=5, scoring='f1_macro')\n",
    "    return scores.mean()*100"
   ]
  },
  {
   "cell_type": "code",
   "execution_count": 40,
   "id": "b5755d02",
   "metadata": {
    "scrolled": true
   },
   "outputs": [
    {
     "name": "stdout",
     "output_type": "stream",
     "text": [
      "Cross val score of RandomClassifier \n",
      " 91.12309265936217\n",
      "Cross val score of ExtraTreesClassifier \n",
      " 91.46867832800964\n",
      "Cross val score of XGBClassifier \n",
      " 91.3159560444606\n",
      "Cross val score of LGBMClassifier \n",
      " 93.50266330935582\n",
      "Cross val score of RandomizedSearchCV \n",
      " 91.21699578126155\n"
     ]
    }
   ],
   "source": [
    "print(\"Cross val score of RandomClassifier \\n\", cross_val(rfc))\n",
    "print(\"Cross val score of ExtraTreesClassifier \\n\", cross_val(extc))\n",
    "print(\"Cross val score of XGBClassifier \\n\", cross_val1(xgb))\n",
    "print(\"Cross val score of LGBMClassifier \\n\", cross_val(lgbm))\n",
    "print(\"Cross val score of RandomizedSearchCV \\n\", cross_val(RSCV))"
   ]
  },
  {
   "cell_type": "code",
   "execution_count": 45,
   "id": "2ced8b77",
   "metadata": {},
   "outputs": [
    {
     "data": {
      "text/plain": [
       "<AxesSubplot:>"
      ]
     },
     "execution_count": 45,
     "metadata": {},
     "output_type": "execute_result"
    },
    {
     "data": {
      "image/png": "[encoded data removed]",
      "text/plain": [
       "<Figure size 432x288 with 2 Axes>"
      ]
     },
     "metadata": {
      "needs_background": "light"
     },
     "output_type": "display_data"
    }
   ],
   "source": [
    "# Creating confusion matrix heatmap for the RandomForestClassifier model\n",
    "names = ['TN','FP','FN','TP']\n",
    "names = np.asarray(names).reshape(2,2)\n",
    "sns.heatmap(main_confusion_matrix(rfc), annot=names, fmt='', cmap='Greens')"
   ]
  },
  {
   "cell_type": "markdown",
   "id": "675c4c90",
   "metadata": {},
   "source": [
    "# Feature Importance Selection"
   ]
  },
  {
   "cell_type": "code",
   "execution_count": 43,
   "id": "e8ed48b1",
   "metadata": {},
   "outputs": [],
   "source": [
    "# Instantiate the model class \n",
    "etf= ExtraTreesClassifier() \n",
    "\n",
    "# Train the model \n",
    "etf.fit(normalized_train_df, y_train) \n",
    "\n",
    "# Evalauting  the feature importance \n",
    "feature_importance = etf.feature_importances_ \n",
    "\n",
    "# Normalizing the individual importances \n",
    "normalized_feature_importance = np.std([tree.feature_importances_ for tree in etf.estimators_], axis = 0) "
   ]
  },
  {
   "cell_type": "code",
   "execution_count": 50,
   "id": "654f0fb8",
   "metadata": {},
   "outputs": [
    {
     "data": {
      "image/png": "[encoded data removed]",
      "text/plain": [
       "<Figure size 720x360 with 1 Axes>"
      ]
     },
     "metadata": {
      "needs_background": "light"
     },
     "output_type": "display_data"
    }
   ],
   "source": [
    "# Create a Bar plot to compare the models \n",
    "plt.figure(figsize=(10, 5))\n",
    "sns.barplot(x=normalized_train_df.columns, y=normalized_feature_importance) \n",
    "plt.xlabel('input Features') \n",
    "plt.ylabel('Importance of each Feature') \n",
    "plt.title('Feature Importance Comparisons') \n",
    "plt.show()"
   ]
  },
  {
   "cell_type": "code",
   "execution_count": null,
   "id": "df395747",
   "metadata": {},
   "outputs": [],
   "source": []
  }
 ],
 "metadata": {
  "kernelspec": {
   "display_name": "Python 3 (ipykernel)",
   "language": "python",
   "name": "python3"
  },
  "language_info": {
   "codemirror_mode": {
    "name": "ipython",
    "version": 3
   },
   "file_extension": ".py",
   "mimetype": "text/x-python",
   "name": "python",
   "nbconvert_exporter": "python",
   "pygments_lexer": "ipython3",
   "version": "3.9.7"
  }
 },
 "nbformat": 4,
 "nbformat_minor": 5
}
